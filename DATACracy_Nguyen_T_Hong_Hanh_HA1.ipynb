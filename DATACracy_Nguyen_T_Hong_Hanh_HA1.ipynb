{
  "nbformat": 4,
  "nbformat_minor": 0,
  "metadata": {
    "colab": {
      "name": "DATACracy_Nguyen T Hong Hanh_HA1",
      "provenance": [],
      "authorship_tag": "ABX9TyNhZ5a0RAo7HibLzEG0la9f",
      "include_colab_link": true
    },
    "kernelspec": {
      "name": "python3",
      "display_name": "Python 3"
    },
    "language_info": {
      "name": "python"
    }
  },
  "cells": [
    {
      "cell_type": "markdown",
      "metadata": {
        "id": "view-in-github",
        "colab_type": "text"
      },
      "source": [
        "<a href=\"https://colab.research.google.com/github/nguyenhonghanh2511/datacracy-atom--Nguyen-T-Hong-Hanh-/blob/main/DATACracy_Nguyen_T_Hong_Hanh_HA1.ipynb\" target=\"_parent\"><img src=\"https://colab.research.google.com/assets/colab-badge.svg\" alt=\"Open In Colab\"/></a>"
      ]
    },
    {
      "cell_type": "code",
      "metadata": {
        "colab": {
          "base_uri": "https://localhost:8080/"
        },
        "id": "_8rNaiDWfTAK",
        "outputId": "0524ced2-6bc8-46e8-c626-2c5762e2d05d"
      },
      "source": [
        "#Python Basic - Your First Program\n",
        "print(\"Hello World\")  "
      ],
      "execution_count": 2,
      "outputs": [
        {
          "output_type": "stream",
          "text": [
            "Hello World\n"
          ],
          "name": "stdout"
        }
      ]
    },
    {
      "cell_type": "code",
      "metadata": {
        "colab": {
          "base_uri": "https://localhost:8080/"
        },
        "id": "PULdJhHjf1To",
        "outputId": "3f6dd0bd-819a-48cf-dc0b-cdd1f3db6559"
      },
      "source": [
        "print(2+5+1+1+1+9+9+2)"
      ],
      "execution_count": null,
      "outputs": [
        {
          "output_type": "stream",
          "text": [
            "30\n"
          ],
          "name": "stdout"
        }
      ]
    },
    {
      "cell_type": "code",
      "metadata": {
        "colab": {
          "base_uri": "https://localhost:8080/"
        },
        "id": "0FZUZQwPf9XB",
        "outputId": "647b99bd-3c8a-4656-fc62-c9925c4813a3"
      },
      "source": [
        "print(\"(^___^)\"*20)"
      ],
      "execution_count": null,
      "outputs": [
        {
          "output_type": "stream",
          "text": [
            "(^___^)(^___^)(^___^)(^___^)(^___^)(^___^)(^___^)(^___^)(^___^)(^___^)(^___^)(^___^)(^___^)(^___^)(^___^)(^___^)(^___^)(^___^)(^___^)(^___^)\n"
          ],
          "name": "stdout"
        }
      ]
    },
    {
      "cell_type": "code",
      "metadata": {
        "colab": {
          "base_uri": "https://localhost:8080/"
        },
        "id": "d6Y9mQbZgqnA",
        "outputId": "d5e6f9ad-71c0-4989-9b68-c6e8250017c2"
      },
      "source": [
        "print(\"Hello to someone who is reading.\")"
      ],
      "execution_count": null,
      "outputs": [
        {
          "output_type": "stream",
          "text": [
            "Hello to someone who is reading.\n"
          ],
          "name": "stdout"
        }
      ]
    },
    {
      "cell_type": "code",
      "metadata": {
        "colab": {
          "base_uri": "https://localhost:8080/"
        },
        "id": "ODwKlu9Lhe8D",
        "outputId": "c9d14e03-f983-4b9d-e1dc-1b3c06bac632"
      },
      "source": [
        "#variable\n",
        "x=\"How are you today? \"\n",
        "y=\"Good, and you?\"\n",
        "print(x+y)\n"
      ],
      "execution_count": null,
      "outputs": [
        {
          "output_type": "stream",
          "text": [
            "How are you today? Good, and you?\n"
          ],
          "name": "stdout"
        }
      ]
    },
    {
      "cell_type": "code",
      "metadata": {
        "id": "wyhqMWIdkFAz",
        "colab": {
          "base_uri": "https://localhost:8080/"
        },
        "outputId": "b2c80c1d-4334-4c4b-b0d3-141c92892f44"
      },
      "source": [
        "#Flow Control - A Short Program: Rock, Paper, Scissors\n",
        "from random import randint\n",
        "#create a list of play options\n",
        "t = [\"Rock\", \"Paper\", \"Scissors\"]\n",
        "\n",
        "#assign a random play to the computer\n",
        "computer = t[randint(0,2)]\n",
        "\n",
        "#set player to False\n",
        "player = False\n",
        "\n",
        "while player == False:\n",
        "#set player to True\n",
        "    player = input(\"Rock, Paper, Scissors?\")\n",
        "    if player == computer:\n",
        "        print(\"Tie!\")\n",
        "    elif player == \"Rock\":\n",
        "        if computer == \"Paper\":\n",
        "            print(\"You lose!\", computer, \"covers\", player)\n",
        "        else:\n",
        "            print(\"You win!\", player, \"smashes\", computer)\n",
        "    elif player == \"Paper\":\n",
        "        if computer == \"Scissors\":\n",
        "            print(\"You lose!\", computer, \"cut\", player)\n",
        "        else:\n",
        "            print(\"You win!\", player, \"covers\", computer)\n",
        "    elif player == \"Scissors\":\n",
        "        if computer == \"Rock\":\n",
        "            print(\"You lose!\", computer, \"smashes\", player)\n",
        "        else:\n",
        "            print(\"You win!\", player, \"cut\", computer)\n",
        "    else:\n",
        "        print(\"Typo, please re-type.\")\n",
        "    #player was set to True, but we want it to be False so the loop continues\n",
        "    player = False\n",
        "    computer = t[randint(0,2)]"
      ],
      "execution_count": null,
      "outputs": [
        {
          "output_type": "stream",
          "text": [
            "Rock, Paper, Scissors?rock\n",
            "Typo, please re-type.\n",
            "Rock, Paper, Scissors?Rock\n",
            "Tie!\n",
            "Rock, Paper, Scissors?Paper\n",
            "You win! Paper covers Rock\n"
          ],
          "name": "stdout"
        }
      ]
    },
    {
      "cell_type": "code",
      "metadata": {
        "colab": {
          "base_uri": "https://localhost:8080/"
        },
        "id": "YiaD4pLHC-5j",
        "outputId": "907107b9-d12b-4368-ff46-3b7ce2694581"
      },
      "source": [
        "# Functions - A Short Program: Zigzag\n",
        "# zigzag pattern\n",
        "# Function to print the zigzag pattern\n",
        "def printPattern(n):\n",
        "\tvar = 0\n",
        "\tvar = 1\n",
        "\tfor i in range(1, n + 1):\n",
        "\t\t# for odd rows\n",
        "\t\tif(i % 2 != 0):\t\n",
        "\t\t\t# calculate starting value\n",
        "\t\t\tvar = var + i - 1\n",
        "\t\t\tfor j in range(1, i + 1):\t\n",
        "\t\t\t\tif(j == 1):\t\t\t\n",
        "\t\t\t\t\tprint(var, end = \"\")\n",
        "\t\t\t\telse:\n",
        "\t\t\t\t\tprint(\"*\", end = \"\")\n",
        "\t\t\t\t\tprint(var, end = \"\")\n",
        "\t\t\t\tvar += 1\n",
        "\t\telse: # for even rows\t\t\n",
        "\t\t\tvar1 = var + i -1 # calculate starting value\n",
        "\t\t\tfor j in range(1, i + 1):\n",
        "\t\t\t\tif(j == 1):\t\n",
        "\t\t\t\t\t# prwithout star\n",
        "\t\t\t\t\tprint(var1, end = \"\")\n",
        "\t\t\t\telse:\n",
        "\t\t\t\t\t# prwith star\n",
        "\t\t\t\t\tprint(\"*\", end = \"\")\n",
        "\t\t\t\t\tprint(var1, end = \"\")\n",
        "\t\t\t\tvar1 -= 1\n",
        "\t\tprint()\n",
        "# Driver code\n",
        "n = 10\n",
        "printPattern(n)"
      ],
      "execution_count": null,
      "outputs": [
        {
          "output_type": "stream",
          "text": [
            "1\n",
            "3*2\n",
            "4*5*6\n",
            "10*9*8*7\n",
            "11*12*13*14*15\n",
            "21*20*19*18*17*16\n",
            "22*23*24*25*26*27*28\n",
            "36*35*34*33*32*31*30*29\n",
            "37*38*39*40*41*42*43*44*45\n",
            "55*54*53*52*51*50*49*48*47*46\n"
          ],
          "name": "stdout"
        }
      ]
    },
    {
      "cell_type": "code",
      "metadata": {
        "id": "KimQl1bnyy7z"
      },
      "source": [
        "# Dictionaries & Structuring Data - Tic-Tac-Toe Board\n",
        "import os    \n",
        "import time    \n",
        "    \n",
        "board = [' ',' ',' ',' ',' ',' ',' ',' ',' ',' ']    \n",
        "player = 1    \n",
        "   \n",
        "########win Flags##########    \n",
        "Win = 1    \n",
        "Draw = -1    \n",
        "Running = 0    \n",
        "Stop = 1    \n",
        "###########################    \n",
        "Game = Running    \n",
        "Mark = 'X'    \n",
        "   \n",
        "#This Function Draws Game Board    \n",
        "def DrawBoard():    \n",
        "    print(\" %c | %c | %c \" % (board[1],board[2],board[3]))    \n",
        "    print(\"___|___|___\")    \n",
        "    print(\" %c | %c | %c \" % (board[4],board[5],board[6]))    \n",
        "    print(\"___|___|___\")    \n",
        "    print(\" %c | %c | %c \" % (board[7],board[8],board[9]))    \n",
        "    print(\"   |   |   \")    \n",
        "   \n",
        "#This Function Checks position is empty or not    \n",
        "def CheckPosition(x):    \n",
        "    if(board[x] == ' '):    \n",
        "        return True    \n",
        "    else:    \n",
        "        return False    \n",
        "   \n",
        "#This Function Checks player has won or not    \n",
        "def CheckWin():    \n",
        "    global Game    \n",
        "    #Horizontal winning condition    \n",
        "    if(board[1] == board[2] and board[2] == board[3] and board[1] != ' '):    \n",
        "        Game = Win    \n",
        "    elif(board[4] == board[5] and board[5] == board[6] and board[4] != ' '):    \n",
        "        Game = Win    \n",
        "    elif(board[7] == board[8] and board[8] == board[9] and board[7] != ' '):    \n",
        "        Game = Win    \n",
        "    #Vertical Winning Condition    \n",
        "    elif(board[1] == board[4] and board[4] == board[7] and board[1] != ' '):    \n",
        "        Game = Win    \n",
        "    elif(board[2] == board[5] and board[5] == board[8] and board[2] != ' '):    \n",
        "        Game = Win    \n",
        "    elif(board[3] == board[6] and board[6] == board[9] and board[3] != ' '):    \n",
        "        Game=Win    \n",
        "    #Diagonal Winning Condition    \n",
        "    elif(board[1] == board[5] and board[5] == board[9] and board[5] != ' '):    \n",
        "        Game = Win    \n",
        "    elif(board[3] == board[5] and board[5] == board[7] and board[5] != ' '):    \n",
        "        Game=Win    \n",
        "    #Match Tie or Draw Condition    \n",
        "    elif(board[1]!=' ' and board[2]!=' ' and board[3]!=' ' and board[4]!=' ' and board[5]!=' ' and board[6]!=' ' and board[7]!=' ' and board[8]!=' ' and board[9]!=' '):    \n",
        "        Game=Draw    \n",
        "    else:            \n",
        "        Game=Running    \n",
        "    \n",
        "print(\"Tic-Tac-Toe Game\")    \n",
        "print(\"Player 1 [X] --- Player 2 [O]\\n\")    \n",
        "print()    \n",
        "print()    \n",
        "print(\"Please Wait...\")    \n",
        "time.sleep(3)    \n",
        "while(Game == Running):    \n",
        "    os.system('cls')    \n",
        "    DrawBoard()    \n",
        "    if(player % 2 != 0):    \n",
        "        print(\"Player 1's chance\")    \n",
        "        Mark = 'X'    \n",
        "    else:    \n",
        "        print(\"Player 2's chance\")    \n",
        "        Mark = 'O'    \n",
        "    choice = int(input(\"Enter the position between [1-9] where you want to mark: \"))    \n",
        "    if(CheckPosition(choice)):    \n",
        "        board[choice] = Mark    \n",
        "        player+=1    \n",
        "        CheckWin()    \n",
        "    \n",
        "os.system('cls')    \n",
        "DrawBoard()    \n",
        "if(Game==Draw):    \n",
        "    print(\"Game Draw\")    \n",
        "elif(Game==Win):    \n",
        "    player-=1    \n",
        "    if(player%2!=0):    \n",
        "        print(\"Player 1 Won\")    \n",
        "    else:    \n",
        "        print(\"Player 2 Won\")   "
      ],
      "execution_count": null,
      "outputs": []
    },
    {
      "cell_type": "code",
      "metadata": {
        "id": "UUPTgtElwctw"
      },
      "source": [
        ""
      ],
      "execution_count": null,
      "outputs": []
    },
    {
      "cell_type": "code",
      "metadata": {
        "id": "Yo1cAOYi0w1j"
      },
      "source": [
        "# Dictionaries & Structuring Data - Tic-Tac-Toe Board (2)\n",
        "\n",
        "theBoard = {'7': ' ' , '8': ' ' , '9': ' ' ,\n",
        "            '4': ' ' , '5': ' ' , '6': ' ' ,\n",
        "            '1': ' ' , '2': ' ' , '3': ' ' }\n",
        "\n",
        "board_keys = []\n",
        "\n",
        "for key in theBoard:\n",
        "    board_keys.append(key)\n",
        "\n",
        "def printBoard(board):\n",
        "    print(board['7'] + '|' + board['8'] + '|' + board['9'])\n",
        "    print('-+-+-')\n",
        "    print(board['4'] + '|' + board['5'] + '|' + board['6'])\n",
        "    print('-+-+-')\n",
        "    print(board['1'] + '|' + board['2'] + '|' + board['3'])\n",
        "\n",
        "# The main function which has all the gameplay functionality.\n",
        "def game():\n",
        "\n",
        "    turn = 'X'\n",
        "    count = 0\n",
        "\n",
        "\n",
        "    for i in range(10):\n",
        "        printBoard(theBoard)\n",
        "        print(\"It's your turn,\" + turn + \". Move to which place?\")\n",
        "\n",
        "        move = input()        \n",
        "\n",
        "        if theBoard[move] == ' ':\n",
        "            theBoard[move] = turn\n",
        "            count += 1\n",
        "        else:\n",
        "            print(\"That place is already filled. Move to which place?\")\n",
        "            continue\n",
        "\n",
        "        # Check if player X or O has won, for every move after 5 moves. \n",
        "        if count >= 5:\n",
        "            if theBoard['7'] == theBoard['8'] == theBoard['9'] != ' ': # across the top\n",
        "                printBoard(theBoard)\n",
        "                print(\"Game Over.\")                \n",
        "                print(\" **** \" +turn + \" won. ****\")                \n",
        "                break\n",
        "            elif theBoard['4'] == theBoard['5'] == theBoard['6'] != ' ': # across the middle\n",
        "                printBoard(theBoard)\n",
        "                print(\"Game Over.\")                \n",
        "                print(\" **** \" +turn + \" won. ****\")\n",
        "                break\n",
        "            elif theBoard['1'] == theBoard['2'] == theBoard['3'] != ' ': # across the bottom\n",
        "                printBoard(theBoard)\n",
        "                print(\"Game Over.\")                \n",
        "                print(\" **** \" +turn + \" won. ****\")\n",
        "                break\n",
        "            elif theBoard['1'] == theBoard['4'] == theBoard['7'] != ' ': # down the left side\n",
        "                printBoard(theBoard)\n",
        "                print(\"Game Over.\")                \n",
        "                print(\" **** \" +turn + \" won. ****\")\n",
        "                break\n",
        "            elif theBoard['2'] == theBoard['5'] == theBoard['8'] != ' ': # down the middle\n",
        "                printBoard(theBoard)\n",
        "                print(\"Game Over.\")                \n",
        "                print(\" **** \" +turn + \" won. ****\")\n",
        "                break\n",
        "            elif theBoard['3'] == theBoard['6'] == theBoard['9'] != ' ': # down the right side\n",
        "                printBoard(theBoard)\n",
        "                print(\"Game Over.\")                \n",
        "                print(\" **** \" +turn + \" won. ****\")\n",
        "                break \n",
        "            elif theBoard['7'] == theBoard['5'] == theBoard['3'] != ' ': # diagonal\n",
        "                printBoard(theBoard)\n",
        "                print(\"Game Over.\")                \n",
        "                print(\" **** \" +turn + \" won. ****\")\n",
        "                break\n",
        "            elif theBoard['1'] == theBoard['5'] == theBoard['9'] != ' ': # diagonal\n",
        "                printBoard(theBoard)\n",
        "                print(\"Game Over.\")                \n",
        "                print(\" **** \" +turn + \" won. ****\")\n",
        "                break \n",
        "\n",
        "        # If neither X nor O wins and the board is full, the result is 'tie'.\n",
        "        if count == 9:\n",
        "            print(\"Game Over.\")                \n",
        "            print(\"Tie!!\")\n",
        "\n",
        "        # The player will be changed after every move.\n",
        "        if turn =='X':\n",
        "            turn = 'O'\n",
        "        else:\n",
        "            turn = 'X'        \n",
        "    \n",
        "    # Whether player wants to restart the game or not.\n",
        "    restart = input(\"Play again? (y/n)\")\n",
        "    if restart == \"y\" or restart == \"Y\":  \n",
        "        for key in board_keys:\n",
        "            theBoard[key] = \" \"\n",
        "\n",
        "        game()\n",
        "\n",
        "if __name__ == \"__main__\":\n",
        "    game()"
      ],
      "execution_count": null,
      "outputs": []
    }
  ]
}